{
  "nbformat": 4,
  "nbformat_minor": 0,
  "metadata": {
    "colab": {
      "name": "Stock_price_prediction.ipynb",
      "provenance": []
    },
    "kernelspec": {
      "name": "python3",
      "display_name": "Python 3"
    }
  },
  "cells": [
    {
      "cell_type": "code",
      "metadata": {
        "id": "1cdRMTf2en9x"
      },
      "source": [
        "import pandas as pd\n",
        "import numpy as np\n",
        "from matplotlib import pyplot as plt\n",
        "import seaborn as sns\n"
      ],
      "execution_count": null,
      "outputs": []
    },
    {
      "cell_type": "code",
      "metadata": {
        "colab": {
          "base_uri": "https://localhost:8080/"
        },
        "id": "kuJvtomzfbIk",
        "outputId": "4601d76d-46c5-44cd-917a-3e47c6a114fb"
      },
      "source": [
        "!git clone https://github.com/krishnaik06/Stock-MArket-Forecasting.git\n"
      ],
      "execution_count": null,
      "outputs": [
        {
          "output_type": "stream",
          "text": [
            "Cloning into 'Stock-MArket-Forecasting'...\n",
            "remote: Enumerating objects: 10, done.\u001b[K\n",
            "remote: Counting objects: 100% (10/10), done.\u001b[K\n",
            "remote: Compressing objects: 100% (8/8), done.\u001b[K\n",
            "remote: Total 10 (delta 2), reused 0 (delta 0), pack-reused 0\u001b[K\n",
            "Unpacking objects: 100% (10/10), done.\n"
          ],
          "name": "stdout"
        }
      ]
    },
    {
      "cell_type": "code",
      "metadata": {
        "colab": {
          "base_uri": "https://localhost:8080/",
          "height": 326
        },
        "id": "sYmQdES6ffxM",
        "outputId": "b0287682-bdc4-4f77-95e0-e059f0e2c9a0"
      },
      "source": [
        "data=pd.read_csv('/content/Stock-MArket-Forecasting/AAPL.csv')\n",
        "data.head()"
      ],
      "execution_count": null,
      "outputs": [
        {
          "output_type": "execute_result",
          "data": {
            "text/html": [
              "<div>\n",
              "<style scoped>\n",
              "    .dataframe tbody tr th:only-of-type {\n",
              "        vertical-align: middle;\n",
              "    }\n",
              "\n",
              "    .dataframe tbody tr th {\n",
              "        vertical-align: top;\n",
              "    }\n",
              "\n",
              "    .dataframe thead th {\n",
              "        text-align: right;\n",
              "    }\n",
              "</style>\n",
              "<table border=\"1\" class=\"dataframe\">\n",
              "  <thead>\n",
              "    <tr style=\"text-align: right;\">\n",
              "      <th></th>\n",
              "      <th>Unnamed: 0</th>\n",
              "      <th>symbol</th>\n",
              "      <th>date</th>\n",
              "      <th>close</th>\n",
              "      <th>high</th>\n",
              "      <th>low</th>\n",
              "      <th>open</th>\n",
              "      <th>volume</th>\n",
              "      <th>adjClose</th>\n",
              "      <th>adjHigh</th>\n",
              "      <th>adjLow</th>\n",
              "      <th>adjOpen</th>\n",
              "      <th>adjVolume</th>\n",
              "      <th>divCash</th>\n",
              "      <th>splitFactor</th>\n",
              "    </tr>\n",
              "  </thead>\n",
              "  <tbody>\n",
              "    <tr>\n",
              "      <th>0</th>\n",
              "      <td>0</td>\n",
              "      <td>AAPL</td>\n",
              "      <td>2015-05-27 00:00:00+00:00</td>\n",
              "      <td>132.045</td>\n",
              "      <td>132.260</td>\n",
              "      <td>130.05</td>\n",
              "      <td>130.34</td>\n",
              "      <td>45833246</td>\n",
              "      <td>121.682558</td>\n",
              "      <td>121.880685</td>\n",
              "      <td>119.844118</td>\n",
              "      <td>120.111360</td>\n",
              "      <td>45833246</td>\n",
              "      <td>0.0</td>\n",
              "      <td>1.0</td>\n",
              "    </tr>\n",
              "    <tr>\n",
              "      <th>1</th>\n",
              "      <td>1</td>\n",
              "      <td>AAPL</td>\n",
              "      <td>2015-05-28 00:00:00+00:00</td>\n",
              "      <td>131.780</td>\n",
              "      <td>131.950</td>\n",
              "      <td>131.10</td>\n",
              "      <td>131.86</td>\n",
              "      <td>30733309</td>\n",
              "      <td>121.438354</td>\n",
              "      <td>121.595013</td>\n",
              "      <td>120.811718</td>\n",
              "      <td>121.512076</td>\n",
              "      <td>30733309</td>\n",
              "      <td>0.0</td>\n",
              "      <td>1.0</td>\n",
              "    </tr>\n",
              "    <tr>\n",
              "      <th>2</th>\n",
              "      <td>2</td>\n",
              "      <td>AAPL</td>\n",
              "      <td>2015-05-29 00:00:00+00:00</td>\n",
              "      <td>130.280</td>\n",
              "      <td>131.450</td>\n",
              "      <td>129.90</td>\n",
              "      <td>131.23</td>\n",
              "      <td>50884452</td>\n",
              "      <td>120.056069</td>\n",
              "      <td>121.134251</td>\n",
              "      <td>119.705890</td>\n",
              "      <td>120.931516</td>\n",
              "      <td>50884452</td>\n",
              "      <td>0.0</td>\n",
              "      <td>1.0</td>\n",
              "    </tr>\n",
              "    <tr>\n",
              "      <th>3</th>\n",
              "      <td>3</td>\n",
              "      <td>AAPL</td>\n",
              "      <td>2015-06-01 00:00:00+00:00</td>\n",
              "      <td>130.535</td>\n",
              "      <td>131.390</td>\n",
              "      <td>130.05</td>\n",
              "      <td>131.20</td>\n",
              "      <td>32112797</td>\n",
              "      <td>120.291057</td>\n",
              "      <td>121.078960</td>\n",
              "      <td>119.844118</td>\n",
              "      <td>120.903870</td>\n",
              "      <td>32112797</td>\n",
              "      <td>0.0</td>\n",
              "      <td>1.0</td>\n",
              "    </tr>\n",
              "    <tr>\n",
              "      <th>4</th>\n",
              "      <td>4</td>\n",
              "      <td>AAPL</td>\n",
              "      <td>2015-06-02 00:00:00+00:00</td>\n",
              "      <td>129.960</td>\n",
              "      <td>130.655</td>\n",
              "      <td>129.32</td>\n",
              "      <td>129.86</td>\n",
              "      <td>33667627</td>\n",
              "      <td>119.761181</td>\n",
              "      <td>120.401640</td>\n",
              "      <td>119.171406</td>\n",
              "      <td>119.669029</td>\n",
              "      <td>33667627</td>\n",
              "      <td>0.0</td>\n",
              "      <td>1.0</td>\n",
              "    </tr>\n",
              "  </tbody>\n",
              "</table>\n",
              "</div>"
            ],
            "text/plain": [
              "   Unnamed: 0 symbol  ... divCash  splitFactor\n",
              "0           0   AAPL  ...     0.0          1.0\n",
              "1           1   AAPL  ...     0.0          1.0\n",
              "2           2   AAPL  ...     0.0          1.0\n",
              "3           3   AAPL  ...     0.0          1.0\n",
              "4           4   AAPL  ...     0.0          1.0\n",
              "\n",
              "[5 rows x 15 columns]"
            ]
          },
          "metadata": {
            "tags": []
          },
          "execution_count": 3
        }
      ]
    },
    {
      "cell_type": "code",
      "metadata": {
        "colab": {
          "base_uri": "https://localhost:8080/",
          "height": 202
        },
        "id": "-_kzBL2zfq_S",
        "outputId": "4a358289-449f-4af1-f367-d62db491d1cc"
      },
      "source": [
        "data1=data[['close']]\n",
        "data1.head()"
      ],
      "execution_count": null,
      "outputs": [
        {
          "output_type": "execute_result",
          "data": {
            "text/html": [
              "<div>\n",
              "<style scoped>\n",
              "    .dataframe tbody tr th:only-of-type {\n",
              "        vertical-align: middle;\n",
              "    }\n",
              "\n",
              "    .dataframe tbody tr th {\n",
              "        vertical-align: top;\n",
              "    }\n",
              "\n",
              "    .dataframe thead th {\n",
              "        text-align: right;\n",
              "    }\n",
              "</style>\n",
              "<table border=\"1\" class=\"dataframe\">\n",
              "  <thead>\n",
              "    <tr style=\"text-align: right;\">\n",
              "      <th></th>\n",
              "      <th>close</th>\n",
              "    </tr>\n",
              "  </thead>\n",
              "  <tbody>\n",
              "    <tr>\n",
              "      <th>0</th>\n",
              "      <td>132.045</td>\n",
              "    </tr>\n",
              "    <tr>\n",
              "      <th>1</th>\n",
              "      <td>131.780</td>\n",
              "    </tr>\n",
              "    <tr>\n",
              "      <th>2</th>\n",
              "      <td>130.280</td>\n",
              "    </tr>\n",
              "    <tr>\n",
              "      <th>3</th>\n",
              "      <td>130.535</td>\n",
              "    </tr>\n",
              "    <tr>\n",
              "      <th>4</th>\n",
              "      <td>129.960</td>\n",
              "    </tr>\n",
              "  </tbody>\n",
              "</table>\n",
              "</div>"
            ],
            "text/plain": [
              "     close\n",
              "0  132.045\n",
              "1  131.780\n",
              "2  130.280\n",
              "3  130.535\n",
              "4  129.960"
            ]
          },
          "metadata": {
            "tags": []
          },
          "execution_count": 4
        }
      ]
    },
    {
      "cell_type": "code",
      "metadata": {
        "colab": {
          "base_uri": "https://localhost:8080/",
          "height": 265
        },
        "id": "Cxs3NWCvfxfC",
        "outputId": "7459ffa0-96bd-49c4-97d7-cf64bbdeb578"
      },
      "source": [
        "plt.plot(data1)\n",
        "plt.show()"
      ],
      "execution_count": null,
      "outputs": [
        {
          "output_type": "display_data",
          "data": {
            "image/png": "[encoded data removed]",
            "text/plain": [
              "<Figure size 432x288 with 1 Axes>"
            ]
          },
          "metadata": {
            "tags": [],
            "needs_background": "light"
          }
        }
      ]
    },
    {
      "cell_type": "code",
      "metadata": {
        "colab": {
          "base_uri": "https://localhost:8080/"
        },
        "id": "SjDoUlitgjSx",
        "outputId": "54aebefd-8e60-4d89-be54-465c18443fd1"
      },
      "source": [
        "data1.shape"
      ],
      "execution_count": null,
      "outputs": [
        {
          "output_type": "execute_result",
          "data": {
            "text/plain": [
              "(1258, 1)"
            ]
          },
          "metadata": {
            "tags": []
          },
          "execution_count": 6
        }
      ]
    },
    {
      "cell_type": "code",
      "metadata": {
        "colab": {
          "base_uri": "https://localhost:8080/"
        },
        "id": "lnog4t3jgL0f",
        "outputId": "1d50f011-2686-4917-a8a7-a7e29a7e47f9"
      },
      "source": [
        "from sklearn.preprocessing import MinMaxScaler\n",
        "scale=MinMaxScaler()\n",
        "data_scaled=scale.fit_transform(np.array(data1))\n",
        "print(data_scaled.shape)\n",
        "data_scaled\n",
        "print(len(data_scaled))"
      ],
      "execution_count": null,
      "outputs": [
        {
          "output_type": "stream",
          "text": [
            "(1258, 1)\n",
            "1258\n"
          ],
          "name": "stdout"
        }
      ]
    },
    {
      "cell_type": "code",
      "metadata": {
        "id": "OkFpeoHIg4Z8"
      },
      "source": [
        "training_size=int(len(data_scaled)*0.65)\n",
        "test_size=len(data_scaled)-training_size\n",
        "train_data,test_data=data_scaled[0:training_size,:],data_scaled[training_size:len(data_scaled),:]"
      ],
      "execution_count": null,
      "outputs": []
    },
    {
      "cell_type": "code",
      "metadata": {
        "colab": {
          "base_uri": "https://localhost:8080/"
        },
        "id": "ZQmH31-XiX1q",
        "outputId": "d86586c8-ace7-47da-89ab-faed5025c0b5"
      },
      "source": [
        "train_data\n",
        "print(train_data.shape)\n",
        "print(test_data.shape)"
      ],
      "execution_count": null,
      "outputs": [
        {
          "output_type": "stream",
          "text": [
            "(817, 1)\n",
            "(441, 1)\n"
          ],
          "name": "stdout"
        }
      ]
    },
    {
      "cell_type": "code",
      "metadata": {
        "colab": {
          "base_uri": "https://localhost:8080/"
        },
        "id": "YtTw9JIkigpD",
        "outputId": "4beddecc-3c64-4376-f7b4-b666e4d79e0d"
      },
      "source": [
        "def create_dataset(input_data,time_step=1):\n",
        "    data_X=[]\n",
        "    data_Y=[]\n",
        "    for i in range(len(input_data)-time_step-1):\n",
        "        a=input_data[i:i+time_step]\n",
        "        data_X.append(a)\n",
        "        data_Y.append(input_data[i+time_step])\n",
        "    return np.array(data_X),np.array(data_Y)\n",
        "\n",
        "\n",
        "x_train,y_train=create_dataset(train_data,100)    \n",
        "x_test,y_test=create_dataset(test_data,100)\n",
        "print(x_train.shape)\n",
        "print(x_test.shape)"
      ],
      "execution_count": null,
      "outputs": [
        {
          "output_type": "stream",
          "text": [
            "(716, 100, 1)\n",
            "(340, 100, 1)\n"
          ],
          "name": "stdout"
        }
      ]
    },
    {
      "cell_type": "code",
      "metadata": {
        "colab": {
          "base_uri": "https://localhost:8080/"
        },
        "id": "jJP_dvoOmmzS",
        "outputId": "89a9a640-b6ed-487b-ba08-220bbc4ff442"
      },
      "source": [
        "### Create the Stacked LSTM model\n",
        "from tensorflow.keras.models import Sequential\n",
        "from tensorflow.keras.layers import Dense\n",
        "from tensorflow.keras.layers import LSTM\n",
        "\n",
        "model=Sequential()\n",
        "model.add(LSTM(50,return_sequences=True,input_shape=(100,1)))\n",
        "model.add(LSTM(50,return_sequences=True))\n",
        "model.add(LSTM(50))\n",
        "model.add(Dense(1))\n",
        "model.compile(loss='mean_squared_error',optimizer='adam')\n",
        "model.summary()\n"
      ],
      "execution_count": null,
      "outputs": [
        {
          "output_type": "stream",
          "text": [
            "Model: \"sequential\"\n",
            "_________________________________________________________________\n",
            "Layer (type)                 Output Shape              Param #   \n",
            "=================================================================\n",
            "lstm (LSTM)                  (None, 100, 50)           10400     \n",
            "_________________________________________________________________\n",
            "lstm_1 (LSTM)                (None, 100, 50)           20200     \n",
            "_________________________________________________________________\n",
            "lstm_2 (LSTM)                (None, 50)                20200     \n",
            "_________________________________________________________________\n",
            "dense (Dense)                (None, 1)                 51        \n",
            "=================================================================\n",
            "Total params: 50,851\n",
            "Trainable params: 50,851\n",
            "Non-trainable params: 0\n",
            "_________________________________________________________________\n"
          ],
          "name": "stdout"
        }
      ]
    },
    {
      "cell_type": "code",
      "metadata": {
        "colab": {
          "base_uri": "https://localhost:8080/"
        },
        "id": "h9YKLcQco2vr",
        "outputId": "267f79b0-9643-4020-9a47-bd468a680565"
      },
      "source": [
        "model.fit(x_train,y_train,validation_data=(x_test,y_test),epochs=50,batch_size=64,verbose=1)"
      ],
      "execution_count": null,
      "outputs": [
        {
          "output_type": "stream",
          "text": [
            "Epoch 1/50\n",
            "12/12 [==============================] - 8s 307ms/step - loss: 0.0260 - val_loss: 0.0673\n",
            "Epoch 2/50\n",
            "12/12 [==============================] - 2s 197ms/step - loss: 0.0047 - val_loss: 0.0048\n",
            "Epoch 3/50\n",
            "12/12 [==============================] - 2s 189ms/step - loss: 0.0015 - val_loss: 0.0042\n",
            "Epoch 4/50\n",
            "12/12 [==============================] - 2s 192ms/step - loss: 8.6799e-04 - val_loss: 0.0059\n",
            "Epoch 5/50\n",
            "12/12 [==============================] - 2s 194ms/step - loss: 6.2808e-04 - val_loss: 0.0089\n",
            "Epoch 6/50\n",
            "12/12 [==============================] - 2s 192ms/step - loss: 7.4359e-04 - val_loss: 0.0047\n",
            "Epoch 7/50\n",
            "12/12 [==============================] - 2s 191ms/step - loss: 6.4605e-04 - val_loss: 0.0047\n",
            "Epoch 8/50\n",
            "12/12 [==============================] - 2s 193ms/step - loss: 6.2568e-04 - val_loss: 0.0056\n",
            "Epoch 9/50\n",
            "12/12 [==============================] - 2s 196ms/step - loss: 6.1662e-04 - val_loss: 0.0047\n",
            "Epoch 10/50\n",
            "12/12 [==============================] - 2s 192ms/step - loss: 6.2606e-04 - val_loss: 0.0042\n",
            "Epoch 11/50\n",
            "12/12 [==============================] - 2s 191ms/step - loss: 5.6044e-04 - val_loss: 0.0045\n",
            "Epoch 12/50\n",
            "12/12 [==============================] - 2s 194ms/step - loss: 5.8608e-04 - val_loss: 0.0043\n",
            "Epoch 13/50\n",
            "12/12 [==============================] - 2s 193ms/step - loss: 5.8151e-04 - val_loss: 0.0036\n",
            "Epoch 14/50\n",
            "12/12 [==============================] - 2s 200ms/step - loss: 6.2221e-04 - val_loss: 0.0033\n",
            "Epoch 15/50\n",
            "12/12 [==============================] - 2s 198ms/step - loss: 5.5242e-04 - val_loss: 0.0044\n",
            "Epoch 16/50\n",
            "12/12 [==============================] - 2s 200ms/step - loss: 5.3471e-04 - val_loss: 0.0036\n",
            "Epoch 17/50\n",
            "12/12 [==============================] - 2s 199ms/step - loss: 5.0659e-04 - val_loss: 0.0032\n",
            "Epoch 18/50\n",
            "12/12 [==============================] - 2s 200ms/step - loss: 5.6178e-04 - val_loss: 0.0029\n",
            "Epoch 19/50\n",
            "12/12 [==============================] - 2s 206ms/step - loss: 6.0445e-04 - val_loss: 0.0029\n",
            "Epoch 20/50\n",
            "12/12 [==============================] - 2s 202ms/step - loss: 6.8018e-04 - val_loss: 0.0034\n",
            "Epoch 21/50\n",
            "12/12 [==============================] - 2s 201ms/step - loss: 5.5945e-04 - val_loss: 0.0030\n",
            "Epoch 22/50\n",
            "12/12 [==============================] - 2s 198ms/step - loss: 5.1227e-04 - val_loss: 0.0030\n",
            "Epoch 23/50\n",
            "12/12 [==============================] - 2s 204ms/step - loss: 5.0553e-04 - val_loss: 0.0024\n",
            "Epoch 24/50\n",
            "12/12 [==============================] - 2s 200ms/step - loss: 5.2742e-04 - val_loss: 0.0023\n",
            "Epoch 25/50\n",
            "12/12 [==============================] - 2s 195ms/step - loss: 4.8548e-04 - val_loss: 0.0032\n",
            "Epoch 26/50\n",
            "12/12 [==============================] - 2s 201ms/step - loss: 5.3978e-04 - val_loss: 0.0028\n",
            "Epoch 27/50\n",
            "12/12 [==============================] - 2s 202ms/step - loss: 4.7145e-04 - val_loss: 0.0024\n",
            "Epoch 28/50\n",
            "12/12 [==============================] - 2s 203ms/step - loss: 4.1676e-04 - val_loss: 0.0028\n",
            "Epoch 29/50\n",
            "12/12 [==============================] - 2s 200ms/step - loss: 4.2836e-04 - val_loss: 0.0023\n",
            "Epoch 30/50\n",
            "12/12 [==============================] - 2s 200ms/step - loss: 4.3895e-04 - val_loss: 0.0025\n",
            "Epoch 31/50\n",
            "12/12 [==============================] - 2s 195ms/step - loss: 4.1408e-04 - val_loss: 0.0023\n",
            "Epoch 32/50\n",
            "12/12 [==============================] - 2s 199ms/step - loss: 4.1431e-04 - val_loss: 0.0023\n",
            "Epoch 33/50\n",
            "12/12 [==============================] - 2s 195ms/step - loss: 3.8940e-04 - val_loss: 0.0018\n",
            "Epoch 34/50\n",
            "12/12 [==============================] - 2s 195ms/step - loss: 3.9404e-04 - val_loss: 0.0018\n",
            "Epoch 35/50\n",
            "12/12 [==============================] - 2s 195ms/step - loss: 3.8313e-04 - val_loss: 0.0017\n",
            "Epoch 36/50\n",
            "12/12 [==============================] - 2s 195ms/step - loss: 4.1194e-04 - val_loss: 0.0017\n",
            "Epoch 37/50\n",
            "12/12 [==============================] - 2s 197ms/step - loss: 3.5823e-04 - val_loss: 0.0019\n",
            "Epoch 38/50\n",
            "12/12 [==============================] - 2s 194ms/step - loss: 3.9814e-04 - val_loss: 0.0017\n",
            "Epoch 39/50\n",
            "12/12 [==============================] - 2s 195ms/step - loss: 3.3474e-04 - val_loss: 0.0015\n",
            "Epoch 40/50\n",
            "12/12 [==============================] - 2s 199ms/step - loss: 3.0865e-04 - val_loss: 0.0017\n",
            "Epoch 41/50\n",
            "12/12 [==============================] - 2s 199ms/step - loss: 3.3605e-04 - val_loss: 0.0015\n",
            "Epoch 42/50\n",
            "12/12 [==============================] - 2s 199ms/step - loss: 3.6949e-04 - val_loss: 0.0018\n",
            "Epoch 43/50\n",
            "12/12 [==============================] - 2s 205ms/step - loss: 3.5134e-04 - val_loss: 0.0015\n",
            "Epoch 44/50\n",
            "12/12 [==============================] - 2s 200ms/step - loss: 3.5447e-04 - val_loss: 0.0023\n",
            "Epoch 45/50\n",
            "12/12 [==============================] - 2s 204ms/step - loss: 3.3280e-04 - val_loss: 0.0015\n",
            "Epoch 46/50\n",
            "12/12 [==============================] - 2s 205ms/step - loss: 3.0609e-04 - val_loss: 0.0015\n",
            "Epoch 47/50\n",
            "12/12 [==============================] - 2s 198ms/step - loss: 3.0917e-04 - val_loss: 0.0026\n",
            "Epoch 48/50\n",
            "12/12 [==============================] - 2s 198ms/step - loss: 4.0251e-04 - val_loss: 0.0014\n",
            "Epoch 49/50\n",
            "12/12 [==============================] - 2s 196ms/step - loss: 2.7745e-04 - val_loss: 0.0015\n",
            "Epoch 50/50\n",
            "12/12 [==============================] - 2s 198ms/step - loss: 3.2387e-04 - val_loss: 0.0018\n"
          ],
          "name": "stdout"
        },
        {
          "output_type": "execute_result",
          "data": {
            "text/plain": [
              "<tensorflow.python.keras.callbacks.History at 0x7f6b84139550>"
            ]
          },
          "metadata": {
            "tags": []
          },
          "execution_count": 12
        }
      ]
    },
    {
      "cell_type": "code",
      "metadata": {
        "id": "Q_4Ia-SyptpR"
      },
      "source": [
        "### Lets Do the prediction and check performance metrics\n",
        "train_predict=model.predict(x_train)\n",
        "test_predict=model.predict(x_test)"
      ],
      "execution_count": null,
      "outputs": []
    },
    {
      "cell_type": "code",
      "metadata": {
        "colab": {
          "base_uri": "https://localhost:8080/"
        },
        "id": "AR2VtWEIptic",
        "outputId": "fe78c14d-bcdf-4117-f682-b37d505af553"
      },
      "source": [
        "##Transformback to original form\n",
        "train_predict=scale.inverse_transform(train_predict)\n",
        "test_predict=scale.inverse_transform(test_predict)\n",
        "### Calculate RMSE performance metrics\n",
        "import math\n",
        "from sklearn.metrics import mean_squared_error\n",
        "print(math.sqrt(mean_squared_error(y_train,train_predict)))\n",
        "\n",
        "\n",
        "\n",
        "### Test Data RMSE\n",
        "\n",
        "print(math.sqrt(mean_squared_error(y_test,test_predict)))\n",
        "\n",
        "print(len(train_predict))"
      ],
      "execution_count": null,
      "outputs": [
        {
          "output_type": "stream",
          "text": [
            "144.8909078924239\n",
            "242.63249282127381\n",
            "716\n"
          ],
          "name": "stdout"
        }
      ]
    },
    {
      "cell_type": "code",
      "metadata": {
        "colab": {
          "base_uri": "https://localhost:8080/",
          "height": 265
        },
        "id": "0rz56DZFq2i1",
        "outputId": "d96d6350-2410-4fcd-f9f7-a3acd782c924"
      },
      "source": [
        "### Plotting \n",
        "# shift train predictions for plotting\n",
        "look_back=100\n",
        "trainPredictPlot = np.empty_like(data_scaled)\n",
        "trainPredictPlot[:, :] = np.nan\n",
        "trainPredictPlot[look_back:len(train_predict)+look_back, :] = train_predict\n",
        "\n",
        "# shift test predictions for plotting\n",
        "testPredictPlot = np.empty_like(data_scaled)\n",
        "testPredictPlot[:, :] = np.nan\n",
        "testPredictPlot[len(train_predict)+(look_back*2)+1:len(data_scaled)-1, :]=test_predict\n",
        "# plot baseline and predictions\n",
        "plt.plot(scale.inverse_transform(data_scaled))\n",
        "plt.plot(trainPredictPlot)\n",
        "plt.plot(testPredictPlot)\n",
        "plt.show()\n",
        "\n",
        "\n"
      ],
      "execution_count": null,
      "outputs": [
        {
          "output_type": "display_data",
          "data": {
            "image/png": "[encoded data removed]",
            "text/plain": [
              "<Figure size 432x288 with 1 Axes>"
            ]
          },
          "metadata": {
            "tags": [],
            "needs_background": "light"
          }
        }
      ]
    }
  ]
}